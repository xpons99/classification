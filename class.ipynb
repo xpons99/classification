{
 "cells": [
  {
   "cell_type": "code",
   "execution_count": 1,
   "metadata": {},
   "outputs": [],
   "source": [
    "import numpy as np\n",
    "import pandas as pd\n",
    "import matplotlib.pyplot as plt\n",
    "import csv"
   ]
  },
  {
   "cell_type": "code",
   "execution_count": 2,
   "metadata": {},
   "outputs": [],
   "source": [
    "def obtain_client_info(filename):\n",
    "    clients = []\n",
    "    with open(filename, 'r') as f:\n",
    "        reader = csv.reader(f)\n",
    "        headers = next(reader)[0:]\n",
    "        for row in reader:\n",
    "            clients.append({key: value for key, value in zip(headers, row[0:])})\n",
    "    return clients"
   ]
  },
  {
   "cell_type": "code",
   "execution_count": 3,
   "metadata": {},
   "outputs": [],
   "source": [
    "def separate_yes_no(clients):\n",
    "    yes_list = []\n",
    "    no_list = []\n",
    "    for i in range(1, len(clients)):\n",
    "        if \"Yes\" in clients[i]['Offer Accepted']:\n",
    "            yes_list.append(clients[i])\n",
    "        else:\n",
    "            no_list.append(clients[i])\n",
    "    return yes_list, no_list "
   ]
  },
  {
   "cell_type": "code",
   "execution_count": 4,
   "metadata": {},
   "outputs": [],
   "source": [
    "def get_data(clients, info):\n",
    "    data = {}\n",
    "    for i in range(1, len(clients)):\n",
    "        value = clients[i][info]\n",
    "        if value not in data.keys():\n",
    "            data[value] = 0\n",
    "        else:\n",
    "            data[value] += 1\n",
    "    return dict(sorted(data.items()))"
   ]
  },
  {
   "cell_type": "code",
   "execution_count": 110,
   "metadata": {},
   "outputs": [],
   "source": [
    "def avg_option_group_by_key(clients, key, option):\n",
    "    data={}\n",
    "    n_times={}\n",
    "\n",
    "    for i in range (1, len(clients)):\n",
    "        value = clients[i][key]\n",
    "        balance = clients[i][option]\n",
    "        if not balance == \"\":\n",
    "            balance = float(balance)\n",
    "            if value not in data.keys():\n",
    "                data[value] = balance\n",
    "                n_times[value]=1\n",
    "            else :\n",
    "                data[value] += balance\n",
    "                n_times[value] += 1\n",
    "    for i in range(0, len(data)):\n",
    "        val = list(data.keys())[i]\n",
    "        data[val] = data[val]/n_times[val]\n",
    "    return data"
   ]
  },
  {
   "cell_type": "code",
   "execution_count": 5,
   "metadata": {},
   "outputs": [],
   "source": [
    "def pie_plot(y, labels, title):\n",
    "    fig = plt.figure()\n",
    "    plt.title(title)\n",
    "    plt.pie(y, labels = labels, autopct='%1.1f%%')\n",
    "    plt.show()"
   ]
  },
  {
   "cell_type": "code",
   "execution_count": 60,
   "metadata": {},
   "outputs": [],
   "source": [
    "def average_balance_total(clients):\n",
    "    count = 0\n",
    "    for i in range(1 ,len(clients)):\n",
    "        value = clients[i]['Average Balance']\n",
    "        if not value == \"\":\n",
    "            count += float(value)\n",
    "    avg = count / len(clients)\n",
    "    return avg"
   ]
  },
  {
   "cell_type": "code",
   "execution_count": 75,
   "metadata": {},
   "outputs": [],
   "source": [
    "def sorted_by(data, option):\n",
    "    data_sorted = sorted(data, key=lambda i:i[option], reverse=True) #de mayor a menor\n",
    "    return data_sorted"
   ]
  },
  {
   "cell_type": "code",
   "execution_count": null,
   "metadata": {},
   "outputs": [],
   "source": [
    "filename = \"creditcardmarketing_2.csv\"\n",
    "clients = obtain_client_info(filename)\n",
    "(yes_list,no_list)=separate_yes_no(clients)\n",
    "print(clients[0]['Average Balance'])\n",
    "\n",
    "info = \"Household Size\"\n",
    "data = get_data(clients, info)\n",
    "title = \"Graph of \" + info + \" from a total of \" + str(len(clients)) + \" clients\"\n",
    "print(\"Types of keys: \" + str(list(data.keys())))\n",
    "pie_plot(list(data.values()), list(data.keys()), title)"
   ]
  },
  {
   "cell_type": "code",
   "execution_count": 76,
   "metadata": {},
   "outputs": [
    {
     "name": "stdout",
     "output_type": "stream",
     "text": [
      "938.8268888888889\n"
     ]
    }
   ],
   "source": [
    "clients_sorted = sorted_by(clients, \"Average Balance\")\n",
    "#print(clients_sorted[0:9])\n",
    "avg = average_balance_total(clients)\n",
    "print(str(avg))"
   ]
  },
  {
   "cell_type": "code",
   "execution_count": 111,
   "metadata": {},
   "outputs": [
    {
     "name": "stdout",
     "output_type": "stream",
     "text": [
      "{'Medium': 940.5271050877583, 'High': 942.1502877379371, 'Low': 937.2893378226712}\n"
     ]
    }
   ],
   "source": [
    "d = avg_balance_group_by(clients, \"Income Level\", \"Average Balance\")\n",
    "print(d)\n"
   ]
  }
 ],
 "metadata": {
  "kernelspec": {
   "display_name": "Python 3.8.10 64-bit (microsoft store)",
   "language": "python",
   "name": "python3"
  },
  "language_info": {
   "codemirror_mode": {
    "name": "ipython",
    "version": 3
   },
   "file_extension": ".py",
   "mimetype": "text/x-python",
   "name": "python",
   "nbconvert_exporter": "python",
   "pygments_lexer": "ipython3",
   "version": "3.8.10"
  },
  "orig_nbformat": 4,
  "vscode": {
   "interpreter": {
    "hash": "16da63d76c1583a4e072cab4c85849925145da216ec9b5f0293f5d7724524717"
   }
  }
 },
 "nbformat": 4,
 "nbformat_minor": 2
}
