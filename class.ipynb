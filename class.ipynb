{
 "cells": [
  {
   "cell_type": "code",
   "execution_count": 1,
   "metadata": {},
   "outputs": [],
   "source": [
    "import numpy as np\n",
    "import pandas as pd\n",
    "import matplotlib.pyplot as plt\n",
    "import csv"
   ]
  },
  {
   "cell_type": "code",
   "execution_count": 2,
   "metadata": {},
   "outputs": [],
   "source": [
    "def obtain_client_info():\n",
    "    filename = \"creditcardmarketing_2.csv\"\n",
    "    clients = []\n",
    "    with open(filename, 'r') as f:\n",
    "        reader = csv.reader(f)\n",
    "        headers = next(reader)[0:]\n",
    "        for row in reader:\n",
    "            clients.append({key: value for key, value in zip(headers, row[0:])})\n",
    "    return clients"
   ]
  },
  {
   "cell_type": "code",
   "execution_count": 3,
   "metadata": {},
   "outputs": [],
   "source": [
    "def separate_yes_no(clients):\n",
    "    yes_list = []\n",
    "    no_list = []\n",
    "    for i in range(1, len(clients)):\n",
    "        if \"Yes\" in clients[i]['Offer Accepted']:\n",
    "            yes_list.append(clients[i])\n",
    "        else:\n",
    "            no_list.append(clients[i])\n",
    "    return yes_list, no_list "
   ]
  },
  {
   "cell_type": "code",
   "execution_count": 4,
   "metadata": {},
   "outputs": [],
   "source": [
    "def get_reward_data(clients):\n",
    "    air_miles = 0\n",
    "    points = 0\n",
    "    cash_back = 0\n",
    "    reward_type = {\n",
    "        \"Air Miles\": air_miles,\n",
    "        \"Points\": points,\n",
    "        \"Cash Back\": cash_back\n",
    "    }\n",
    "    for i in range(1, len(clients)):\n",
    "        if 'Air Miles' in clients[i]['Reward']:            \n",
    "            reward_type['Air Miles'] += 1\n",
    "        elif 'Points' in clients[i]['Reward']:\n",
    "            reward_type['Points'] += 1\n",
    "        else:\n",
    "            reward_type['Cash Back'] += 1\n",
    "    return reward_type"
   ]
  },
  {
   "cell_type": "code",
   "execution_count": 15,
   "metadata": {},
   "outputs": [],
   "source": [
    "def get_amount_credit_cards(clients):\n",
    "    amounts=[]\n",
    "    dict_amounts = {}\n",
    "    for i in range(1, len(clients)):\n",
    "        value = clients[i]['Credit Cards Held']\n",
    "        if value not in amounts:\n",
    "            amounts.append(value)\n",
    "            dict_amounts[value] = 0\n",
    "        else:\n",
    "            dict_amounts[value] += 1\n",
    "    return sorted(dict_amounts.items())"
   ]
  },
  {
   "cell_type": "code",
   "execution_count": 5,
   "metadata": {},
   "outputs": [],
   "source": [
    "def pie_plot(y, labels, title):\n",
    "    fig = plt.figure()\n",
    "    plt.title(title)\n",
    "    plt.pie(y, labels = labels, autopct='%1.1f%%')\n",
    "    plt.show()"
   ]
  },
  {
   "cell_type": "code",
   "execution_count": 6,
   "metadata": {},
   "outputs": [
    {
     "data": {
      "image/png": "[encoded data removed]",
      "text/plain": [
       "<Figure size 640x480 with 1 Axes>"
      ]
     },
     "metadata": {},
     "output_type": "display_data"
    }
   ],
   "source": [
    "clients = obtain_client_info()\n",
    "(yes_list,no_list)=separate_yes_no(clients)\n",
    "reward = get_reward_data(no_list)\n",
    "pie_plot(list(reward.values()), list(reward.keys()),\"Graph of accepted rewards\")"
   ]
  },
  {
   "cell_type": "code",
   "execution_count": 18,
   "metadata": {},
   "outputs": [
    {
     "ename": "AttributeError",
     "evalue": "'list' object has no attribute 'values'",
     "output_type": "error",
     "traceback": [
      "\u001b[1;31m---------------------------------------------------------------------------\u001b[0m",
      "\u001b[1;31mAttributeError\u001b[0m                            Traceback (most recent call last)",
      "Cell \u001b[1;32mIn[18], line 3\u001b[0m\n\u001b[0;32m      1\u001b[0m am \u001b[39m=\u001b[39m get_amount_credit_cards(yes_list)\n\u001b[1;32m----> 3\u001b[0m pie_plot(\u001b[39mlist\u001b[39m(am\u001b[39m.\u001b[39;49mvalues()), \u001b[39mlist\u001b[39m(am\u001b[39m.\u001b[39mkeys()), \u001b[39m\"\u001b[39m\u001b[39m\"\u001b[39m)\n",
      "\u001b[1;31mAttributeError\u001b[0m: 'list' object has no attribute 'values'"
     ]
    }
   ],
   "source": [
    "am = get_amount_credit_cards(yes_list)\n",
    "\n",
    "pie_plot(list(am.values()), list(am.keys()), \"\")"
   ]
  }
 ],
 "metadata": {
  "kernelspec": {
   "display_name": "Python 3.8.10 64-bit (microsoft store)",
   "language": "python",
   "name": "python3"
  },
  "language_info": {
   "codemirror_mode": {
    "name": "ipython",
    "version": 3
   },
   "file_extension": ".py",
   "mimetype": "text/x-python",
   "name": "python",
   "nbconvert_exporter": "python",
   "pygments_lexer": "ipython3",
   "version": "3.8.10"
  },
  "orig_nbformat": 4,
  "vscode": {
   "interpreter": {
    "hash": "16da63d76c1583a4e072cab4c85849925145da216ec9b5f0293f5d7724524717"
   }
  }
 },
 "nbformat": 4,
 "nbformat_minor": 2
}
